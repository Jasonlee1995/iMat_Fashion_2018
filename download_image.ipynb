{
 "cells": [
  {
   "cell_type": "markdown",
   "metadata": {
    "colab_type": "text",
    "id": "JLdGruty7Aw7"
   },
   "source": [
    "# 0. What we'll gonna do...\n",
    "- Make train, val csv files including image_id and following labels from json files\n",
    "- Download train, val images from json files"
   ]
  },
  {
   "cell_type": "markdown",
   "metadata": {
    "colab_type": "text",
    "id": "AJdmGHHr7Aw8"
   },
   "source": [
    "# 1. Get information from json files"
   ]
  },
  {
   "cell_type": "code",
   "execution_count": null,
   "metadata": {
    "colab": {},
    "colab_type": "code",
    "id": "nWjb6mvI7Aw9"
   },
   "outputs": [],
   "source": [
    "from utils.download_utils import *"
   ]
  },
  {
   "cell_type": "code",
   "execution_count": null,
   "metadata": {
    "colab": {},
    "colab_type": "code",
    "id": "pogKMZXt7AxA"
   },
   "outputs": [],
   "source": [
    "train_info = Information(data_type='train')\n",
    "val_info = Information(data_type='val')"
   ]
  },
  {
   "cell_type": "code",
   "execution_count": null,
   "metadata": {
    "colab": {},
    "colab_type": "code",
    "id": "Jj0OmhW27AxD"
   },
   "outputs": [],
   "source": [
    "train_info.json2dict()\n",
    "val_info.json2dict()"
   ]
  },
  {
   "cell_type": "markdown",
   "metadata": {
    "colab_type": "text",
    "id": "y94ZNBdf7AxG"
   },
   "source": [
    "# 2. Convert dictionary to csv"
   ]
  },
  {
   "cell_type": "code",
   "execution_count": null,
   "metadata": {
    "colab": {},
    "colab_type": "code",
    "id": "eZyCRb4H7AxG",
    "outputId": "b12d139f-a2f4-492d-d65d-a35dbb8bf02a"
   },
   "outputs": [],
   "source": [
    "train_info.dict2csv()\n",
    "val_info.dict2csv()"
   ]
  },
  {
   "cell_type": "markdown",
   "metadata": {
    "colab_type": "text",
    "id": "P4jiHwWr7AxK"
   },
   "source": [
    "# 3. Download Images"
   ]
  },
  {
   "cell_type": "code",
   "execution_count": null,
   "metadata": {
    "colab": {},
    "colab_type": "code",
    "id": "9Pwt-pTJ7AxK",
    "outputId": "2a370cad-78b0-4938-a406-273c1f94b21e"
   },
   "outputs": [],
   "source": [
    "train_info.dict2img()\n",
    "val_info.dict2img()"
   ]
  }
 ],
 "metadata": {
  "colab": {
   "name": "download_image.ipynb",
   "provenance": []
  },
  "kernelspec": {
   "display_name": "Python 3",
   "language": "python",
   "name": "python3"
  },
  "language_info": {
   "codemirror_mode": {
    "name": "ipython",
    "version": 3
   },
   "file_extension": ".py",
   "mimetype": "text/x-python",
   "name": "python",
   "nbconvert_exporter": "python",
   "pygments_lexer": "ipython3",
   "version": "3.8.3"
  }
 },
 "nbformat": 4,
 "nbformat_minor": 1
}
